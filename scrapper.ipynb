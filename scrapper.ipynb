{
 "cells": [
  {
   "cell_type": "markdown",
   "metadata": {},
   "source": [
    "# Habrahabr news scrapper"
   ]
  },
  {
   "cell_type": "markdown",
   "metadata": {},
   "source": [
    "Magic функция, которая будет одновременно выполняет код ячейки и экспортирует его в файл, так как встроенная функция %%writefile такой функциональности не поддерживает."
   ]
  },
  {
   "cell_type": "code",
   "execution_count": 1,
   "metadata": {},
   "outputs": [],
   "source": [
    "from IPython.core.magic import register_cell_magic\n",
    "\n",
    "\n",
    "@register_cell_magic\n",
    "def write_and_run(line, cell):\n",
    "    argz = line.split()\n",
    "    file = argz[-1]\n",
    "    mode = \"w\"\n",
    "    if len(argz) == 2 and argz[0] == \"-a\":\n",
    "        mode = \"a\"\n",
    "    with open(file, mode) as f:\n",
    "        f.write(cell + \"\\n\\n\")\n",
    "    get_ipython().run_cell(cell)"
   ]
  },
  {
   "cell_type": "markdown",
   "metadata": {},
   "source": [
    "Секция импорта"
   ]
  },
  {
   "cell_type": "code",
   "execution_count": 2,
   "metadata": {},
   "outputs": [
    {
     "data": {
      "text/plain": [
       "'ru_RU.UTF-8'"
      ]
     },
     "execution_count": 2,
     "metadata": {},
     "output_type": "execute_result"
    }
   ],
   "source": [
    "%%write_and_run scrapper.py\n",
    "import locale\n",
    "import time\n",
    "import unicodedata\n",
    "\n",
    "import requests\n",
    "from fake_useragent import UserAgent\n",
    "from lxml import etree, html\n",
    "from pymongo import MongoClient\n",
    "\n",
    "locale.setlocale(locale.LC_TIME, \"ru_RU.UTF-8\")"
   ]
  },
  {
   "cell_type": "markdown",
   "metadata": {},
   "source": [
    "Скачиваем и парсим данные"
   ]
  },
  {
   "cell_type": "code",
   "execution_count": 3,
   "metadata": {},
   "outputs": [],
   "source": [
    "%%write_and_run -a scrapper.py\n",
    "# fake agent\n",
    "user_agent = UserAgent().chrome"
   ]
  },
  {
   "cell_type": "code",
   "execution_count": 4,
   "metadata": {},
   "outputs": [],
   "source": [
    "%%write_and_run -a scrapper.py\n",
    "# init requests session\n",
    "session = requests.Session()\n",
    "session.headers.update(\n",
    "    {\"User-Agent\": user_agent,}\n",
    ")"
   ]
  },
  {
   "cell_type": "code",
   "execution_count": 5,
   "metadata": {},
   "outputs": [],
   "source": [
    "%%write_and_run -a scrapper.py\n",
    "# download page\n",
    "url = \"https://habr.com/ru/news/\"\n",
    "page = session.get(url)\n",
    "content = page.text\n",
    "parsed = html.fromstring(content)"
   ]
  },
  {
   "cell_type": "code",
   "execution_count": 6,
   "metadata": {},
   "outputs": [],
   "source": [
    "%%write_and_run -a scrapper.py\n",
    "# parse page\n",
    "data = []\n",
    "headers = parsed.xpath('//h2[@class=\"post__title\"]')\n",
    "for header in headers:\n",
    "    _id = header.xpath('./a[@class=\"post__title_link\"]/@href')[0]\n",
    "    text = header.xpath('./a[@class=\"post__title_link\"]/text()')[0]\n",
    "    text = unicodedata.normalize(\"NFKD\", text)\n",
    "    data.append({\"_id\": _id, \"text\": text})"
   ]
  },
  {
   "cell_type": "markdown",
   "metadata": {},
   "source": [
    "Сохраняем данные в БД"
   ]
  },
  {
   "cell_type": "code",
   "execution_count": 7,
   "metadata": {},
   "outputs": [],
   "source": [
    "%%write_and_run -a scrapper.py\n",
    "# make connection to mongo\n",
    "mongo = MongoClient(\"localhost\", 27017)\n",
    "db = mongo.habr\n",
    "collection = db.news"
   ]
  },
  {
   "cell_type": "code",
   "execution_count": 8,
   "metadata": {},
   "outputs": [],
   "source": [
    "%%write_and_run -a scrapper.py\n",
    "# update database\n",
    "for item in data:\n",
    "    if collection.update_one({'_id': item['_id']}, {\"$set\": item}, upsert=True).matched_count > 0:\n",
    "        break"
   ]
  },
  {
   "cell_type": "markdown",
   "metadata": {},
   "source": [
    "Полезные операции с монгой, чтобы каждый раз не набирать в консоли"
   ]
  },
  {
   "cell_type": "code",
   "execution_count": null,
   "metadata": {},
   "outputs": [],
   "source": [
    "# Создание контейнера\n",
    "!docker run -d -p 27017:27017 --name mongodb mongo "
   ]
  },
  {
   "cell_type": "code",
   "execution_count": null,
   "metadata": {},
   "outputs": [],
   "source": [
    "# Запуск контейнера\n",
    "!docker start mongodb"
   ]
  },
  {
   "cell_type": "code",
   "execution_count": null,
   "metadata": {},
   "outputs": [],
   "source": [
    "# Дамп базы 'habr' в рабочую директорию\n",
    "!docker exec -it mongodb mongodump --out=/backup/ --db=habr\n",
    "!docker exec -it mongodb tar czf dump.mongo.tgz /backup\n",
    "!docker cp mongodb:/dump.mongo.tgz dump.mongo.tgz\n",
    "!docker exec -it mongodb rm -rf /backup /dump.mongo.tgz"
   ]
  },
  {
   "cell_type": "code",
   "execution_count": null,
   "metadata": {},
   "outputs": [],
   "source": [
    "# Восстановление данных из дампа\n",
    "!docker cp dump.mongo.tgz mongodb:/dump.mongo.tgz\n",
    "!docker exec -it mongodb tar xzf dump.mongo.tgz\n",
    "!docker exec -it mongodb mongorestore /backup\n",
    "!docker exec -it mongodb rm -rf /backup /dump.mongo.tgz"
   ]
  },
  {
   "cell_type": "code",
   "execution_count": null,
   "metadata": {},
   "outputs": [],
   "source": [
    "# Остановка контейнера\n",
    "!docker stop mongodb"
   ]
  }
 ],
 "metadata": {
  "kernelspec": {
   "display_name": "Python 3",
   "language": "python",
   "name": "python3"
  },
  "language_info": {
   "codemirror_mode": {
    "name": "ipython",
    "version": 3
   },
   "file_extension": ".py",
   "mimetype": "text/x-python",
   "name": "python",
   "nbconvert_exporter": "python",
   "pygments_lexer": "ipython3",
   "version": "3.7.6"
  }
 },
 "nbformat": 4,
 "nbformat_minor": 4
}
