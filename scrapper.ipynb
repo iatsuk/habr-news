{
 "cells": [
  {
   "cell_type": "markdown",
   "metadata": {},
   "source": [
    "# Habrahabr news scrapper"
   ]
  },
  {
   "cell_type": "markdown",
   "metadata": {},
   "source": [
    "Magic функция, которая будет одновременно выполняет код ячейки и экспортирует его в файл, так как встроенная функция %%writefile такой функциональности не поддерживает."
   ]
  },
  {
   "cell_type": "code",
   "execution_count": 1,
   "metadata": {},
   "outputs": [],
   "source": [
    "from IPython.core.magic import register_cell_magic\n",
    "\n",
    "\n",
    "@register_cell_magic\n",
    "def write_and_run(line, cell):\n",
    "    argz = line.split()\n",
    "    file = argz[-1]\n",
    "    mode = \"w\"\n",
    "    if len(argz) == 2 and argz[0] == \"-a\":\n",
    "        mode = \"a\"\n",
    "    with open(file, mode) as f:\n",
    "        f.write(cell + \"\\n\\n\")\n",
    "    get_ipython().run_cell(cell)"
   ]
  },
  {
   "cell_type": "markdown",
   "metadata": {},
   "source": [
    "Секция импорта"
   ]
  },
  {
   "cell_type": "code",
   "execution_count": 2,
   "metadata": {},
   "outputs": [
    {
     "data": {
      "text/plain": [
       "'ru_RU.UTF-8'"
      ]
     },
     "execution_count": 2,
     "metadata": {},
     "output_type": "execute_result"
    }
   ],
   "source": [
    "%%write_and_run scrapper.py\n",
    "import locale\n",
    "import unicodedata\n",
    "\n",
    "import requests\n",
    "from fake_useragent import UserAgent\n",
    "from lxml import html\n",
    "\n",
    "locale.setlocale(locale.LC_TIME, \"ru_RU.UTF-8\")"
   ]
  },
  {
   "cell_type": "markdown",
   "metadata": {},
   "source": [
    "Скачиваем и парсим данные"
   ]
  },
  {
   "cell_type": "code",
   "execution_count": 3,
   "metadata": {},
   "outputs": [],
   "source": [
    "%%write_and_run -a scrapper.py\n",
    "# fake agent\n",
    "user_agent = UserAgent().chrome"
   ]
  },
  {
   "cell_type": "code",
   "execution_count": 9,
   "metadata": {},
   "outputs": [
    {
     "data": {
      "text/plain": [
       "'Mozilla/5.0 (Windows NT 5.1) AppleWebKit/537.36 (KHTML, like Gecko) Chrome/35.0.2117.157 Safari/537.36'"
      ]
     },
     "execution_count": 9,
     "metadata": {},
     "output_type": "execute_result"
    }
   ],
   "source": [
    "user_agent"
   ]
  },
  {
   "cell_type": "code",
   "execution_count": 4,
   "metadata": {},
   "outputs": [],
   "source": [
    "%%write_and_run -a scrapper.py\n",
    "# init requests session\n",
    "session = requests.Session()\n",
    "session.headers.update(\n",
    "    {\"User-Agent\": user_agent,}\n",
    ")"
   ]
  },
  {
   "cell_type": "code",
   "execution_count": 5,
   "metadata": {},
   "outputs": [],
   "source": [
    "%%write_and_run -a scrapper.py\n",
    "# download page\n",
    "url = \"https://habr.com/ru/news/\"\n",
    "page = session.get(url)\n",
    "content = page.text\n",
    "parsed = html.fromstring(content)"
   ]
  },
  {
   "cell_type": "code",
   "execution_count": 6,
   "metadata": {},
   "outputs": [],
   "source": [
    "%%write_and_run -a scrapper.py\n",
    "# parse page\n",
    "data = []\n",
    "headers = parsed.xpath('//h2[@class=\"post__title\"]')\n",
    "for header in headers:\n",
    "    _id = header.xpath('./a[@class=\"post__title_link\"]/@href')[0]\n",
    "    text = header.xpath('./a[@class=\"post__title_link\"]/text()')[0]\n",
    "    text = unicodedata.normalize(\"NFKD\", text)\n",
    "    data.append({\"_id\": _id, \"text\": text})"
   ]
  },
  {
   "cell_type": "markdown",
   "metadata": {},
   "source": [
    "Сохраняем данные в S3"
   ]
  },
  {
   "cell_type": "code",
   "execution_count": 7,
   "metadata": {},
   "outputs": [],
   "source": [
    "%%write_and_run -a scrapper.py\n",
    "# make connection to s3\n",
    "import boto3\n",
    "\n",
    "session = boto3.session.Session()\n",
    "s3 = session.client(service_name=\"s3\", endpoint_url=\"https://storage.yandexcloud.net\")"
   ]
  },
  {
   "cell_type": "code",
   "execution_count": 8,
   "metadata": {},
   "outputs": [
    {
     "data": {
      "text/plain": [
       "{'ResponseMetadata': {'RequestId': '67176b2d5036b53b',\n",
       "  'HostId': '',\n",
       "  'HTTPStatusCode': 200,\n",
       "  'HTTPHeaders': {'server': 'nginx',\n",
       "   'date': 'Sun, 26 Jul 2020 17:55:32 GMT',\n",
       "   'transfer-encoding': 'chunked',\n",
       "   'connection': 'keep-alive',\n",
       "   'keep-alive': 'timeout=60',\n",
       "   'etag': '\"62196c973fa64c09848c2de86ddfdd26\"',\n",
       "   'x-amz-request-id': '67176b2d5036b53b',\n",
       "   'x-amz-version-id': 'null',\n",
       "   'x-yc-s3-cloud-id': 'b1g4l6iqet969vscav0l',\n",
       "   'x-yc-s3-folder-id': 'b1glgqadrs39qkbojcqo'},\n",
       "  'RetryAttempts': 0},\n",
       " 'ETag': '\"62196c973fa64c09848c2de86ddfdd26\"',\n",
       " 'VersionId': 'null'}"
      ]
     },
     "execution_count": 8,
     "metadata": {},
     "output_type": "execute_result"
    }
   ],
   "source": [
    "%%write_and_run -a scrapper.py\n",
    "# overwrite data\n",
    "storage_data = \".\\n\".join([x[\"text\"] for x in data])\n",
    "s3.put_object(Bucket=\"scrapper\", Key=\"habr/news\", Body=storage_data)"
   ]
  },
  {
   "cell_type": "code",
   "execution_count": null,
   "metadata": {},
   "outputs": [],
   "source": [
    "# Получить список объектов в бакете\n",
    "for key in s3.list_objects(Bucket=\"scrapper\")[\"Contents\"]:\n",
    "    print(key[\"Key\"])"
   ]
  },
  {
   "cell_type": "code",
   "execution_count": null,
   "metadata": {},
   "outputs": [],
   "source": [
    "# Получить объект\n",
    "get_object_response = s3.get_object(Bucket=\"scrapper\", Key=\"habr/news\")\n",
    "response_body = get_object_response[\"Body\"].read()"
   ]
  },
  {
   "cell_type": "code",
   "execution_count": null,
   "metadata": {},
   "outputs": [],
   "source": [
    "# Парсинг тела\n",
    "response_parsed = response_body.decode(\"utf-8\").split('\\n')\n",
    "response_parsed"
   ]
  },
  {
   "cell_type": "code",
   "execution_count": null,
   "metadata": {},
   "outputs": [],
   "source": [
    "# Ограничение по размеру\n",
    "size = 0\n",
    "text_body = str()\n",
    "for header in response_parsed:\n",
    "    size += len(header) + len(' ')\n",
    "    if size > 1024:\n",
    "        break\n",
    "    text_body += header + ' '\n",
    "text_body"
   ]
  },
  {
   "cell_type": "markdown",
   "metadata": {},
   "source": [
    "Сохраняем данные в MongoDB"
   ]
  },
  {
   "cell_type": "code",
   "execution_count": null,
   "metadata": {},
   "outputs": [],
   "source": [
    "%%write_and_run -a scrapper.py\n",
    "# make connection to mongo\n",
    "from pymongo import MongoClient\n",
    "\n",
    "mongo = MongoClient(\"localhost\", 27017)\n",
    "db = mongo.habr\n",
    "collection = db.news"
   ]
  },
  {
   "cell_type": "code",
   "execution_count": null,
   "metadata": {},
   "outputs": [],
   "source": [
    "%%write_and_run -a scrapper.py\n",
    "# update database\n",
    "for item in data:\n",
    "    if (\n",
    "        collection.update_one(\n",
    "            {\"_id\": item[\"_id\"]}, {\"$set\": item}, upsert=True\n",
    "        ).matched_count\n",
    "        > 0\n",
    "    ):\n",
    "        break"
   ]
  },
  {
   "cell_type": "markdown",
   "metadata": {},
   "source": [
    "Полезные операции с монгой, чтобы каждый раз не набирать в консоли"
   ]
  },
  {
   "cell_type": "code",
   "execution_count": null,
   "metadata": {},
   "outputs": [],
   "source": [
    "# Создание контейнера\n",
    "!docker run -d -p 27017:27017 --name mongodb mongo "
   ]
  },
  {
   "cell_type": "code",
   "execution_count": null,
   "metadata": {},
   "outputs": [],
   "source": [
    "# Запуск контейнера\n",
    "!docker start mongodb"
   ]
  },
  {
   "cell_type": "code",
   "execution_count": null,
   "metadata": {},
   "outputs": [],
   "source": [
    "# Дамп базы 'habr' в рабочую директорию\n",
    "!docker exec -it mongodb mongodump --out=/backup/ --db=habr\n",
    "!docker exec -it mongodb tar czf dump.mongo.tgz /backup\n",
    "!docker cp mongodb:/dump.mongo.tgz dump.mongo.tgz\n",
    "!docker exec -it mongodb rm -rf /backup /dump.mongo.tgz"
   ]
  },
  {
   "cell_type": "code",
   "execution_count": null,
   "metadata": {},
   "outputs": [],
   "source": [
    "# Восстановление данных из дампа\n",
    "!docker cp dump.mongo.tgz mongodb:/dump.mongo.tgz\n",
    "!docker exec -it mongodb tar xzf dump.mongo.tgz\n",
    "!docker exec -it mongodb mongorestore /backup\n",
    "!docker exec -it mongodb rm -rf /backup /dump.mongo.tgz"
   ]
  },
  {
   "cell_type": "code",
   "execution_count": null,
   "metadata": {},
   "outputs": [],
   "source": [
    "# Остановка контейнера\n",
    "!docker stop mongodb"
   ]
  }
 ],
 "metadata": {
  "kernelspec": {
   "display_name": "Python 3",
   "language": "python",
   "name": "python3"
  },
  "language_info": {
   "codemirror_mode": {
    "name": "ipython",
    "version": 3
   },
   "file_extension": ".py",
   "mimetype": "text/x-python",
   "name": "python",
   "nbconvert_exporter": "python",
   "pygments_lexer": "ipython3",
   "version": "3.7.6"
  }
 },
 "nbformat": 4,
 "nbformat_minor": 4
}
